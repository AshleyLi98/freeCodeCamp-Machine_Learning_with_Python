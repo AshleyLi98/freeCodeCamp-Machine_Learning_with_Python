{
  "cells": [
    {
      "cell_type": "markdown",
      "metadata": {
        "id": "uGd4NYQX1Rf_"
      },
      "source": [
        "*Note: You are currently reading this using Google Colaboratory which is a cloud-hosted version of Jupyter Notebook. This is a document containing both text cells for documentation and runnable code cells. If you are unfamiliar with Jupyter Notebook, watch this 3-minute introduction before starting this challenge: https://www.youtube.com/watch?v=inN8seMm7UI*\n",
        "\n",
        "---\n",
        "\n",
        "In this challenge, you will create a book recommendation algorithm using **K-Nearest Neighbors**.\n",
        "\n",
        "You will use the [Book-Crossings dataset](http://www2.informatik.uni-freiburg.de/~cziegler/BX/). This dataset contains 1.1 million ratings (scale of 1-10) of 270,000 books by 90,000 users. \n",
        "\n",
        "After importing and cleaning the data, use `NearestNeighbors` from `sklearn.neighbors` to develop a model that shows books that are similar to a given book. The Nearest Neighbors algorithm measures distance to determine the “closeness” of instances.\n",
        "\n",
        "Create a function named `get_recommends` that takes a book title (from the dataset) as an argument and returns a list of 5 similar books with their distances from the book argument.\n",
        "\n",
        "This code:\n",
        "\n",
        "`get_recommends(\"The Queen of the Damned (Vampire Chronicles (Paperback))\")`\n",
        "\n",
        "should return:\n",
        "\n",
        "```\n",
        "[\n",
        "  'The Queen of the Damned (Vampire Chronicles (Paperback))',\n",
        "  [\n",
        "    ['Catch 22', 0.793983519077301], \n",
        "    ['The Witching Hour (Lives of the Mayfair Witches)', 0.7448656558990479], \n",
        "    ['Interview with the Vampire', 0.7345068454742432],\n",
        "    ['The Tale of the Body Thief (Vampire Chronicles (Paperback))', 0.5376338362693787],\n",
        "    ['The Vampire Lestat (Vampire Chronicles, Book II)', 0.5178412199020386]\n",
        "  ]\n",
        "]\n",
        "```\n",
        "\n",
        "Notice that the data returned from `get_recommends()` is a list. The first element in the list is the book title passed in to the function. The second element in the list is a list of five more lists. Each of the five lists contains a recommended book and the distance from the recommended book to the book passed in to the function.\n",
        "\n",
        "If you graph the dataset (optional), you will notice that most books are not rated frequently. To ensure statistical significance, remove from the dataset users with less than 200 ratings and books with less than 100 ratings.\n",
        "\n",
        "The first three cells import libraries you may need and the data to use. The final cell is for testing. Write all your code in between those cells."
      ]
    },
    {
      "cell_type": "code",
      "execution_count": null,
      "metadata": {
        "id": "Y1onB6kUvo4Z"
      },
      "outputs": [],
      "source": [
        "# import libraries (you may add additional imports but you may not have to)\n",
        "import numpy as np\n",
        "import pandas as pd\n",
        "from scipy.sparse import csr_matrix\n",
        "from sklearn.neighbors import NearestNeighbors\n",
        "import matplotlib.pyplot as plt"
      ]
    },
    {
      "cell_type": "code",
      "execution_count": null,
      "metadata": {
        "id": "iAQGqqO_vo4d",
        "outputId": "2c24829e-c426-4df2-e8da-b1d0bd9b09a1",
        "colab": {
          "base_uri": "https://localhost:8080/"
        }
      },
      "outputs": [
        {
          "output_type": "stream",
          "name": "stdout",
          "text": [
            "--2022-05-16 07:27:07--  https://cdn.freecodecamp.org/project-data/books/book-crossings.zip\n",
            "Resolving cdn.freecodecamp.org (cdn.freecodecamp.org)... 104.26.2.33, 104.26.3.33, 172.67.70.149, ...\n",
            "Connecting to cdn.freecodecamp.org (cdn.freecodecamp.org)|104.26.2.33|:443... connected.\n",
            "HTTP request sent, awaiting response... 200 OK\n",
            "Length: 26085508 (25M) [application/zip]\n",
            "Saving to: ‘book-crossings.zip’\n",
            "\n",
            "book-crossings.zip  100%[===================>]  24.88M   121MB/s    in 0.2s    \n",
            "\n",
            "2022-05-16 07:27:08 (121 MB/s) - ‘book-crossings.zip’ saved [26085508/26085508]\n",
            "\n",
            "Archive:  book-crossings.zip\n",
            "  inflating: BX-Book-Ratings.csv     \n",
            "  inflating: BX-Books.csv            \n",
            "  inflating: BX-Users.csv            \n"
          ]
        }
      ],
      "source": [
        "# get data files\n",
        "!wget https://cdn.freecodecamp.org/project-data/books/book-crossings.zip\n",
        "\n",
        "!unzip book-crossings.zip\n",
        "\n",
        "books_filename = 'BX-Books.csv'\n",
        "ratings_filename = 'BX-Book-Ratings.csv'"
      ]
    },
    {
      "cell_type": "code",
      "execution_count": null,
      "metadata": {
        "id": "NClILWOiEd6Q"
      },
      "outputs": [],
      "source": [
        "# import csv data into dataframes\n",
        "df_books = pd.read_csv(\n",
        "    books_filename,\n",
        "    encoding = \"ISO-8859-1\",\n",
        "    sep=\";\",\n",
        "    header=0,\n",
        "    names=['isbn', 'title', 'author'],\n",
        "    usecols=['isbn', 'title', 'author'],\n",
        "    dtype={'isbn': 'str', 'title': 'str', 'author': 'str'})\n",
        "\n",
        "df_ratings = pd.read_csv(\n",
        "    ratings_filename,\n",
        "    encoding = \"ISO-8859-1\",\n",
        "    sep=\";\",\n",
        "    header=0,\n",
        "    names=['user', 'isbn', 'rating'],\n",
        "    usecols=['user', 'isbn', 'rating'],\n",
        "    dtype={'user': 'int32', 'isbn': 'str', 'rating': 'float32'})"
      ]
    },
    {
      "cell_type": "code",
      "source": [
        "print(df_books.info())\n",
        "print(df_books.head())\n",
        "print(df_ratings.info())\n",
        "print(df_ratings.head())"
      ],
      "metadata": {
        "id": "hRjyfTxgxVNz",
        "outputId": "2e7f5409-ce74-4b7f-9169-1c78736e4533",
        "colab": {
          "base_uri": "https://localhost:8080/"
        }
      },
      "execution_count": null,
      "outputs": [
        {
          "output_type": "stream",
          "name": "stdout",
          "text": [
            "<class 'pandas.core.frame.DataFrame'>\n",
            "RangeIndex: 271379 entries, 0 to 271378\n",
            "Data columns (total 3 columns):\n",
            " #   Column  Non-Null Count   Dtype \n",
            "---  ------  --------------   ----- \n",
            " 0   isbn    271379 non-null  object\n",
            " 1   title   271379 non-null  object\n",
            " 2   author  271378 non-null  object\n",
            "dtypes: object(3)\n",
            "memory usage: 6.2+ MB\n",
            "None\n",
            "         isbn                                              title  \\\n",
            "0  0195153448                                Classical Mythology   \n",
            "1  0002005018                                       Clara Callan   \n",
            "2  0060973129                               Decision in Normandy   \n",
            "3  0374157065  Flu: The Story of the Great Influenza Pandemic...   \n",
            "4  0393045218                             The Mummies of Urumchi   \n",
            "\n",
            "                 author  \n",
            "0    Mark P. O. Morford  \n",
            "1  Richard Bruce Wright  \n",
            "2          Carlo D'Este  \n",
            "3      Gina Bari Kolata  \n",
            "4       E. J. W. Barber  \n",
            "<class 'pandas.core.frame.DataFrame'>\n",
            "RangeIndex: 1149780 entries, 0 to 1149779\n",
            "Data columns (total 3 columns):\n",
            " #   Column  Non-Null Count    Dtype  \n",
            "---  ------  --------------    -----  \n",
            " 0   user    1149780 non-null  int32  \n",
            " 1   isbn    1149780 non-null  object \n",
            " 2   rating  1149780 non-null  float32\n",
            "dtypes: float32(1), int32(1), object(1)\n",
            "memory usage: 17.5+ MB\n",
            "None\n",
            "     user        isbn  rating\n",
            "0  276725  034545104X     0.0\n",
            "1  276726  0155061224     5.0\n",
            "2  276727  0446520802     0.0\n",
            "3  276729  052165615X     3.0\n",
            "4  276729  0521795028     6.0\n"
          ]
        }
      ]
    },
    {
      "cell_type": "code",
      "source": [
        "print(df_books.isnull().sum())\n",
        "print(df_ratings.isnull().sum())"
      ],
      "metadata": {
        "id": "f8k5XRx5xqik",
        "outputId": "55d763cc-d707-4a30-b285-01a8551f2370",
        "colab": {
          "base_uri": "https://localhost:8080/"
        }
      },
      "execution_count": null,
      "outputs": [
        {
          "output_type": "stream",
          "name": "stdout",
          "text": [
            "isbn      0\n",
            "title     0\n",
            "author    1\n",
            "dtype: int64\n",
            "user      0\n",
            "isbn      0\n",
            "rating    0\n",
            "dtype: int64\n"
          ]
        }
      ]
    },
    {
      "cell_type": "code",
      "source": [
        "df_books.dropna(inplace=True)"
      ],
      "metadata": {
        "id": "8TNCnYNnzito"
      },
      "execution_count": null,
      "outputs": []
    },
    {
      "cell_type": "code",
      "source": [
        "print(df_books.isnull().sum())\n",
        "print(df_ratings.isnull().sum())"
      ],
      "metadata": {
        "id": "2u7IXbsGznZE",
        "outputId": "c0d81ab4-9890-49f8-9543-c15cb50ca479",
        "colab": {
          "base_uri": "https://localhost:8080/"
        }
      },
      "execution_count": null,
      "outputs": [
        {
          "output_type": "stream",
          "name": "stdout",
          "text": [
            "isbn      0\n",
            "title     0\n",
            "author    0\n",
            "dtype: int64\n",
            "user      0\n",
            "isbn      0\n",
            "rating    0\n",
            "dtype: int64\n"
          ]
        }
      ]
    },
    {
      "cell_type": "code",
      "source": [
        "print(df_books.shape)\n",
        "print(df_ratings.shape)"
      ],
      "metadata": {
        "id": "m6MXN8dVzq8q",
        "outputId": "c6549f40-afdb-4adb-a32f-f481f43ba633",
        "colab": {
          "base_uri": "https://localhost:8080/"
        }
      },
      "execution_count": null,
      "outputs": [
        {
          "output_type": "stream",
          "name": "stdout",
          "text": [
            "(271378, 3)\n",
            "(1149780, 3)\n"
          ]
        }
      ]
    },
    {
      "cell_type": "code",
      "source": [
        "users = df_ratings['user'].value_counts()\n",
        "users.sort_values(ascending=False)\n",
        "print(users)"
      ],
      "metadata": {
        "id": "jZOm8aC-zxGu",
        "outputId": "e5b3272f-8877-48ce-a946-ea5e09e2b6b4",
        "colab": {
          "base_uri": "https://localhost:8080/"
        }
      },
      "execution_count": null,
      "outputs": [
        {
          "output_type": "stream",
          "name": "stdout",
          "text": [
            "11676     13602\n",
            "198711     7550\n",
            "153662     6109\n",
            "98391      5891\n",
            "35859      5850\n",
            "          ...  \n",
            "116180        1\n",
            "116166        1\n",
            "116154        1\n",
            "116137        1\n",
            "276723        1\n",
            "Name: user, Length: 105283, dtype: int64\n"
          ]
        }
      ]
    },
    {
      "cell_type": "code",
      "source": [
        "len(users[users < 200])"
      ],
      "metadata": {
        "id": "kNwIC2wx0M3y",
        "outputId": "ae526050-50d9-4981-9a6f-108d43af1bb1",
        "colab": {
          "base_uri": "https://localhost:8080/"
        }
      },
      "execution_count": null,
      "outputs": [
        {
          "output_type": "execute_result",
          "data": {
            "text/plain": [
              "104378"
            ]
          },
          "metadata": {},
          "execution_count": 15
        }
      ]
    },
    {
      "cell_type": "code",
      "source": [
        "df_ratings['user'].isin(users[users < 200].index).sum()"
      ],
      "metadata": {
        "id": "w04EPo0Q0TZN",
        "outputId": "4212ef0f-437d-477d-d236-fa620bc3feaf",
        "colab": {
          "base_uri": "https://localhost:8080/"
        }
      },
      "execution_count": null,
      "outputs": [
        {
          "output_type": "execute_result",
          "data": {
            "text/plain": [
              "622224"
            ]
          },
          "metadata": {},
          "execution_count": 16
        }
      ]
    },
    {
      "cell_type": "code",
      "source": [
        "df_ratings_rm = df_ratings[\n",
        "  ~df_ratings['user'].isin(users[users < 200].index)\n",
        "]\n",
        "print(df_ratings_rm.shape)"
      ],
      "metadata": {
        "id": "d-kROdCb0dzu",
        "outputId": "18204db8-d157-4cd2-931a-5f606f1195a7",
        "colab": {
          "base_uri": "https://localhost:8080/"
        }
      },
      "execution_count": null,
      "outputs": [
        {
          "output_type": "stream",
          "name": "stdout",
          "text": [
            "(527556, 3)\n"
          ]
        }
      ]
    },
    {
      "cell_type": "code",
      "source": [
        "print(df_books.shape)"
      ],
      "metadata": {
        "id": "oKLgU2bH01rv",
        "outputId": "65852922-9fe4-47af-d52a-0a87f47575ad",
        "colab": {
          "base_uri": "https://localhost:8080/"
        }
      },
      "execution_count": null,
      "outputs": [
        {
          "output_type": "stream",
          "name": "stdout",
          "text": [
            "(271378, 3)\n"
          ]
        }
      ]
    },
    {
      "cell_type": "code",
      "source": [
        "books = df_ratings['isbn'].value_counts()\n",
        "print(books.sort_values(ascending=False))"
      ],
      "metadata": {
        "id": "1ryk2V5407J6",
        "outputId": "3dd542a9-f9ea-4105-8399-db763b3c9780",
        "colab": {
          "base_uri": "https://localhost:8080/"
        }
      },
      "execution_count": null,
      "outputs": [
        {
          "output_type": "stream",
          "name": "stdout",
          "text": [
            "0971880107     2502\n",
            "0316666343     1295\n",
            "0385504209      883\n",
            "0060928336      732\n",
            "0312195516      723\n",
            "               ... \n",
            "1561443042        1\n",
            "1561446815        1\n",
            "1561562262        1\n",
            "0451406192        1\n",
            "05162443314       1\n",
            "Name: isbn, Length: 340556, dtype: int64\n"
          ]
        }
      ]
    },
    {
      "cell_type": "code",
      "source": [
        "print(len(books[books < 100]))"
      ],
      "metadata": {
        "id": "DLajcf4p2awm",
        "outputId": "237f4bb0-b242-431c-bdb9-118431c51a09",
        "colab": {
          "base_uri": "https://localhost:8080/"
        }
      },
      "execution_count": null,
      "outputs": [
        {
          "output_type": "stream",
          "name": "stdout",
          "text": [
            "339825\n"
          ]
        }
      ]
    },
    {
      "cell_type": "code",
      "source": [
        "print(df_ratings['isbn'].isin(books[books < 100].index).sum())"
      ],
      "metadata": {
        "id": "HPR7FnfC2fBf",
        "outputId": "56ad654a-f4c4-4280-89c2-d74f09ec6e3e",
        "colab": {
          "base_uri": "https://localhost:8080/"
        }
      },
      "execution_count": null,
      "outputs": [
        {
          "output_type": "stream",
          "name": "stdout",
          "text": [
            "1011319\n"
          ]
        }
      ]
    },
    {
      "cell_type": "code",
      "source": [
        "df_ratings_rm = df_ratings_rm[\n",
        "  ~df_ratings_rm['isbn'].isin(books[books < 100].index)\n",
        "]\n",
        "print(df_ratings_rm.shape)"
      ],
      "metadata": {
        "id": "lst6eGVb206H",
        "outputId": "0af0c45c-a17e-47d3-9917-85509541a63d",
        "colab": {
          "base_uri": "https://localhost:8080/"
        }
      },
      "execution_count": null,
      "outputs": [
        {
          "output_type": "stream",
          "name": "stdout",
          "text": [
            "(49781, 3)\n"
          ]
        }
      ]
    },
    {
      "cell_type": "code",
      "execution_count": null,
      "metadata": {
        "id": "xAcXjkCFCh0A"
      },
      "outputs": [],
      "source": [
        "# add your code here - consider creating a new cell for each section of code"
      ]
    },
    {
      "cell_type": "code",
      "source": [
        "df = df_ratings_rm.pivot_table(index=['user'], columns=['isbn'], values='rating').fillna(0).T\n",
        "print(df)"
      ],
      "metadata": {
        "id": "yYngmJa_4tyQ",
        "outputId": "1987b1e5-e8e8-4fad-c150-06cde0b92e3c",
        "colab": {
          "base_uri": "https://localhost:8080/"
        }
      },
      "execution_count": null,
      "outputs": [
        {
          "output_type": "stream",
          "name": "stdout",
          "text": [
            "user        254     2276    2766    2977    3363    4017    4385    6242    \\\n",
            "isbn                                                                         \n",
            "002542730X     0.0     0.0     0.0     0.0     0.0     0.0     0.0     0.0   \n",
            "0060008032     0.0     0.0     0.0     0.0     0.0     0.0     0.0     0.0   \n",
            "0060096195     0.0     0.0     0.0     0.0     0.0     0.0     0.0     0.0   \n",
            "006016848X     0.0     0.0     0.0     0.0     0.0     0.0     0.0     0.0   \n",
            "0060173289     0.0     0.0     0.0     0.0     0.0     0.0     0.0     0.0   \n",
            "...            ...     ...     ...     ...     ...     ...     ...     ...   \n",
            "1573227331     0.0     0.0     0.0     0.0     0.0     0.0     0.0     6.0   \n",
            "1573229326     0.0     0.0     0.0     0.0     0.0     0.0     0.0     6.0   \n",
            "1573229571     0.0     0.0     0.0     0.0     0.0     0.0     0.0     0.0   \n",
            "1592400876     0.0     0.0     0.0     0.0     0.0     0.0     0.0     0.0   \n",
            "1878424319     0.0     0.0     0.0     0.0     0.0     0.0     0.0     0.0   \n",
            "\n",
            "user        6251    6323    ...  274004  274061  274301  274308  274808  \\\n",
            "isbn                        ...                                           \n",
            "002542730X     0.0     0.0  ...     0.0     0.0     0.0     0.0     0.0   \n",
            "0060008032     0.0     0.0  ...     0.0     0.0     0.0     0.0     0.0   \n",
            "0060096195     0.0     0.0  ...     0.0     0.0     0.0     0.0     0.0   \n",
            "006016848X     0.0     0.0  ...     0.0     0.0     0.0     0.0     0.0   \n",
            "0060173289     0.0     0.0  ...     0.0     0.0     0.0     0.0     0.0   \n",
            "...            ...     ...  ...     ...     ...     ...     ...     ...   \n",
            "1573227331     0.0     0.0  ...     0.0     0.0     0.0     0.0     0.0   \n",
            "1573229326     0.0     0.0  ...     0.0     0.0     0.0     0.0     0.0   \n",
            "1573229571     0.0     0.0  ...     0.0     0.0     0.0     0.0     0.0   \n",
            "1592400876     0.0     0.0  ...     0.0     0.0     0.0     0.0     0.0   \n",
            "1878424319     0.0     0.0  ...     0.0     0.0     0.0     0.0     0.0   \n",
            "\n",
            "user        275970  277427  277478  277639  278418  \n",
            "isbn                                                \n",
            "002542730X     0.0    10.0     0.0     0.0     0.0  \n",
            "0060008032     0.0     0.0     0.0     0.0     0.0  \n",
            "0060096195     0.0     0.0     0.0     0.0     0.0  \n",
            "006016848X     0.0     0.0     0.0     0.0     0.0  \n",
            "0060173289     0.0     0.0     0.0     0.0     0.0  \n",
            "...            ...     ...     ...     ...     ...  \n",
            "1573227331     0.0     0.0     0.0     0.0     0.0  \n",
            "1573229326     0.0     0.0     0.0     0.0     0.0  \n",
            "1573229571     0.0     0.0     0.0     0.0     0.0  \n",
            "1592400876     0.0     0.0     0.0     0.0     0.0  \n",
            "1878424319     0.0     0.0     0.0     0.0     0.0  \n",
            "\n",
            "[731 rows x 888 columns]\n"
          ]
        }
      ]
    },
    {
      "cell_type": "code",
      "source": [
        "df.index = df.join(df_books.set_index('isbn'))['title']\n",
        "print(df)"
      ],
      "metadata": {
        "id": "ZGhjiX_E5r9u",
        "outputId": "508fec93-c6dd-4cc6-b5dd-36ee6f112fed",
        "colab": {
          "base_uri": "https://localhost:8080/"
        }
      },
      "execution_count": null,
      "outputs": [
        {
          "output_type": "stream",
          "name": "stdout",
          "text": [
            "user                                                254     2276    2766    \\\n",
            "title                                                                        \n",
            "Politically Correct Bedtime Stories: Modern Tal...     0.0     0.0     0.0   \n",
            "Angels                                                 0.0     0.0     0.0   \n",
            "The Boy Next Door                                      0.0     0.0     0.0   \n",
            "Men Are from Mars, Women Are from Venus: A Prac...     0.0     0.0     0.0   \n",
            "Divine Secrets of the Ya-Ya Sisterhood : A Novel       0.0     0.0     0.0   \n",
            "...                                                    ...     ...     ...   \n",
            "About a Boy                                            0.0     0.0     0.0   \n",
            "How to Be Good                                         0.0     0.0     0.0   \n",
            "About a Boy (Movie Tie-In)                             0.0     0.0     0.0   \n",
            "Eats, Shoots &amp; Leaves: The Zero Tolerance A...     0.0     0.0     0.0   \n",
            "The Four Agreements: A Practical Guide to Perso...     0.0     0.0     0.0   \n",
            "\n",
            "user                                                2977    3363    4017    \\\n",
            "title                                                                        \n",
            "Politically Correct Bedtime Stories: Modern Tal...     0.0     0.0     0.0   \n",
            "Angels                                                 0.0     0.0     0.0   \n",
            "The Boy Next Door                                      0.0     0.0     0.0   \n",
            "Men Are from Mars, Women Are from Venus: A Prac...     0.0     0.0     0.0   \n",
            "Divine Secrets of the Ya-Ya Sisterhood : A Novel       0.0     0.0     0.0   \n",
            "...                                                    ...     ...     ...   \n",
            "About a Boy                                            0.0     0.0     0.0   \n",
            "How to Be Good                                         0.0     0.0     0.0   \n",
            "About a Boy (Movie Tie-In)                             0.0     0.0     0.0   \n",
            "Eats, Shoots &amp; Leaves: The Zero Tolerance A...     0.0     0.0     0.0   \n",
            "The Four Agreements: A Practical Guide to Perso...     0.0     0.0     0.0   \n",
            "\n",
            "user                                                4385    6242    6251    \\\n",
            "title                                                                        \n",
            "Politically Correct Bedtime Stories: Modern Tal...     0.0     0.0     0.0   \n",
            "Angels                                                 0.0     0.0     0.0   \n",
            "The Boy Next Door                                      0.0     0.0     0.0   \n",
            "Men Are from Mars, Women Are from Venus: A Prac...     0.0     0.0     0.0   \n",
            "Divine Secrets of the Ya-Ya Sisterhood : A Novel       0.0     0.0     0.0   \n",
            "...                                                    ...     ...     ...   \n",
            "About a Boy                                            0.0     6.0     0.0   \n",
            "How to Be Good                                         0.0     6.0     0.0   \n",
            "About a Boy (Movie Tie-In)                             0.0     0.0     0.0   \n",
            "Eats, Shoots &amp; Leaves: The Zero Tolerance A...     0.0     0.0     0.0   \n",
            "The Four Agreements: A Practical Guide to Perso...     0.0     0.0     0.0   \n",
            "\n",
            "user                                                6323    ...  274004  \\\n",
            "title                                                       ...           \n",
            "Politically Correct Bedtime Stories: Modern Tal...     0.0  ...     0.0   \n",
            "Angels                                                 0.0  ...     0.0   \n",
            "The Boy Next Door                                      0.0  ...     0.0   \n",
            "Men Are from Mars, Women Are from Venus: A Prac...     0.0  ...     0.0   \n",
            "Divine Secrets of the Ya-Ya Sisterhood : A Novel       0.0  ...     0.0   \n",
            "...                                                    ...  ...     ...   \n",
            "About a Boy                                            0.0  ...     0.0   \n",
            "How to Be Good                                         0.0  ...     0.0   \n",
            "About a Boy (Movie Tie-In)                             0.0  ...     0.0   \n",
            "Eats, Shoots &amp; Leaves: The Zero Tolerance A...     0.0  ...     0.0   \n",
            "The Four Agreements: A Practical Guide to Perso...     0.0  ...     0.0   \n",
            "\n",
            "user                                                274061  274301  274308  \\\n",
            "title                                                                        \n",
            "Politically Correct Bedtime Stories: Modern Tal...     0.0     0.0     0.0   \n",
            "Angels                                                 0.0     0.0     0.0   \n",
            "The Boy Next Door                                      0.0     0.0     0.0   \n",
            "Men Are from Mars, Women Are from Venus: A Prac...     0.0     0.0     0.0   \n",
            "Divine Secrets of the Ya-Ya Sisterhood : A Novel       0.0     0.0     0.0   \n",
            "...                                                    ...     ...     ...   \n",
            "About a Boy                                            0.0     0.0     0.0   \n",
            "How to Be Good                                         0.0     0.0     0.0   \n",
            "About a Boy (Movie Tie-In)                             0.0     0.0     0.0   \n",
            "Eats, Shoots &amp; Leaves: The Zero Tolerance A...     0.0     0.0     0.0   \n",
            "The Four Agreements: A Practical Guide to Perso...     0.0     0.0     0.0   \n",
            "\n",
            "user                                                274808  275970  277427  \\\n",
            "title                                                                        \n",
            "Politically Correct Bedtime Stories: Modern Tal...     0.0     0.0    10.0   \n",
            "Angels                                                 0.0     0.0     0.0   \n",
            "The Boy Next Door                                      0.0     0.0     0.0   \n",
            "Men Are from Mars, Women Are from Venus: A Prac...     0.0     0.0     0.0   \n",
            "Divine Secrets of the Ya-Ya Sisterhood : A Novel       0.0     0.0     0.0   \n",
            "...                                                    ...     ...     ...   \n",
            "About a Boy                                            0.0     0.0     0.0   \n",
            "How to Be Good                                         0.0     0.0     0.0   \n",
            "About a Boy (Movie Tie-In)                             0.0     0.0     0.0   \n",
            "Eats, Shoots &amp; Leaves: The Zero Tolerance A...     0.0     0.0     0.0   \n",
            "The Four Agreements: A Practical Guide to Perso...     0.0     0.0     0.0   \n",
            "\n",
            "user                                                277478  277639  278418  \n",
            "title                                                                       \n",
            "Politically Correct Bedtime Stories: Modern Tal...     0.0     0.0     0.0  \n",
            "Angels                                                 0.0     0.0     0.0  \n",
            "The Boy Next Door                                      0.0     0.0     0.0  \n",
            "Men Are from Mars, Women Are from Venus: A Prac...     0.0     0.0     0.0  \n",
            "Divine Secrets of the Ya-Ya Sisterhood : A Novel       0.0     0.0     0.0  \n",
            "...                                                    ...     ...     ...  \n",
            "About a Boy                                            0.0     0.0     0.0  \n",
            "How to Be Good                                         0.0     0.0     0.0  \n",
            "About a Boy (Movie Tie-In)                             0.0     0.0     0.0  \n",
            "Eats, Shoots &amp; Leaves: The Zero Tolerance A...     0.0     0.0     0.0  \n",
            "The Four Agreements: A Practical Guide to Perso...     0.0     0.0     0.0  \n",
            "\n",
            "[731 rows x 888 columns]\n"
          ]
        }
      ]
    },
    {
      "cell_type": "code",
      "source": [
        "df = df.sort_index()\n",
        "print(df.head())"
      ],
      "metadata": {
        "id": "TgLtqWkR58rv",
        "outputId": "a4c778bc-9e77-4622-f6a4-0f229fd9869b",
        "colab": {
          "base_uri": "https://localhost:8080/"
        }
      },
      "execution_count": null,
      "outputs": [
        {
          "output_type": "stream",
          "name": "stdout",
          "text": [
            "user                 254     2276    2766    2977    3363    4017    4385    \\\n",
            "title                                                                         \n",
            "1984                    9.0     0.0     0.0     0.0     0.0     0.0     0.0   \n",
            "1st to Die: A Novel     0.0     0.0     0.0     0.0     0.0     0.0     0.0   \n",
            "1st to Die: A Novel     0.0     0.0     0.0     0.0     0.0     0.0     0.0   \n",
            "2nd Chance              0.0     0.0     0.0     0.0     0.0     0.0     0.0   \n",
            "2nd Chance              0.0    10.0     0.0     0.0     0.0     0.0     0.0   \n",
            "\n",
            "user                 6242    6251    6323    ...  274004  274061  274301  \\\n",
            "title                                        ...                           \n",
            "1984                    0.0     0.0     0.0  ...     0.0     0.0     0.0   \n",
            "1st to Die: A Novel     0.0     0.0     0.0  ...     0.0     0.0     0.0   \n",
            "1st to Die: A Novel     0.0     0.0     0.0  ...     0.0     0.0     0.0   \n",
            "2nd Chance              0.0     0.0     0.0  ...     0.0     0.0     0.0   \n",
            "2nd Chance              0.0     0.0     0.0  ...     0.0     0.0     0.0   \n",
            "\n",
            "user                 274308  274808  275970  277427  277478  277639  278418  \n",
            "title                                                                        \n",
            "1984                    0.0     0.0     0.0     0.0     0.0     0.0     0.0  \n",
            "1st to Die: A Novel     0.0     0.0     0.0     0.0     0.0     0.0     0.0  \n",
            "1st to Die: A Novel     0.0     0.0     0.0     0.0     0.0     0.0     0.0  \n",
            "2nd Chance              0.0     0.0     0.0     0.0     0.0     0.0     0.0  \n",
            "2nd Chance              0.0     0.0     0.0     0.0     0.0     0.0     0.0  \n",
            "\n",
            "[5 rows x 888 columns]\n"
          ]
        }
      ]
    },
    {
      "cell_type": "code",
      "source": [
        "model = NearestNeighbors(metric='cosine')\n",
        "model.fit(df.values)"
      ],
      "metadata": {
        "id": "sei5Yl3E6MYP",
        "outputId": "25d9a8ff-05b1-43ac-b178-21f303daa228",
        "colab": {
          "base_uri": "https://localhost:8080/"
        }
      },
      "execution_count": null,
      "outputs": [
        {
          "output_type": "execute_result",
          "data": {
            "text/plain": [
              "NearestNeighbors(metric='cosine')"
            ]
          },
          "metadata": {},
          "execution_count": 32
        }
      ]
    },
    {
      "cell_type": "code",
      "source": [
        "title = 'The Queen of the Damned (Vampire Chronicles (Paperback))'\n",
        "df.loc[title].shape"
      ],
      "metadata": {
        "id": "-Sa4CV-C8lmM",
        "outputId": "ffc7b5bd-1d08-4244-f0f1-05886f762c98",
        "colab": {
          "base_uri": "https://localhost:8080/"
        }
      },
      "execution_count": null,
      "outputs": [
        {
          "output_type": "execute_result",
          "data": {
            "text/plain": [
              "(888,)"
            ]
          },
          "metadata": {},
          "execution_count": 33
        }
      ]
    },
    {
      "cell_type": "code",
      "source": [
        "distance, indice = model.kneighbors([df.loc[title].values], n_neighbors=6)\n",
        "print(distance)\n",
        "print(indice)"
      ],
      "metadata": {
        "id": "cNTr17aU8vWy",
        "outputId": "b27528a1-ee07-4693-bfad-f34f061c7c2e",
        "colab": {
          "base_uri": "https://localhost:8080/"
        }
      },
      "execution_count": null,
      "outputs": [
        {
          "output_type": "stream",
          "name": "stdout",
          "text": [
            "[[0.         0.51784116 0.53763384 0.73450685 0.74486566 0.7939835 ]]\n",
            "[[612 660 648 272 667 110]]\n"
          ]
        }
      ]
    },
    {
      "cell_type": "code",
      "source": [
        "pd.DataFrame({\n",
        "    'title' :df.iloc[indice[0]].index.values,\n",
        "    'distance':distance[0]\n",
        "}) \\\n",
        ".sort_values(by='distance', ascending=False)"
      ],
      "metadata": {
        "id": "UQkj0dhQ9JGE",
        "outputId": "ce49f96b-254a-48cd-ae0a-7db6eb7e0eae",
        "colab": {
          "base_uri": "https://localhost:8080/",
          "height": 237
        }
      },
      "execution_count": null,
      "outputs": [
        {
          "output_type": "execute_result",
          "data": {
            "text/plain": [
              "                                               title  distance\n",
              "5                                           Catch 22  0.793984\n",
              "4   The Witching Hour (Lives of the Mayfair Witches)  0.744866\n",
              "3                         Interview with the Vampire  0.734507\n",
              "2  The Tale of the Body Thief (Vampire Chronicles...  0.537634\n",
              "1   The Vampire Lestat (Vampire Chronicles, Book II)  0.517841\n",
              "0  The Queen of the Damned (Vampire Chronicles (P...  0.000000"
            ],
            "text/html": [
              "\n",
              "  <div id=\"df-691d9bb7-dca5-4441-a0fe-356f4944dfac\">\n",
              "    <div class=\"colab-df-container\">\n",
              "      <div>\n",
              "<style scoped>\n",
              "    .dataframe tbody tr th:only-of-type {\n",
              "        vertical-align: middle;\n",
              "    }\n",
              "\n",
              "    .dataframe tbody tr th {\n",
              "        vertical-align: top;\n",
              "    }\n",
              "\n",
              "    .dataframe thead th {\n",
              "        text-align: right;\n",
              "    }\n",
              "</style>\n",
              "<table border=\"1\" class=\"dataframe\">\n",
              "  <thead>\n",
              "    <tr style=\"text-align: right;\">\n",
              "      <th></th>\n",
              "      <th>title</th>\n",
              "      <th>distance</th>\n",
              "    </tr>\n",
              "  </thead>\n",
              "  <tbody>\n",
              "    <tr>\n",
              "      <th>5</th>\n",
              "      <td>Catch 22</td>\n",
              "      <td>0.793984</td>\n",
              "    </tr>\n",
              "    <tr>\n",
              "      <th>4</th>\n",
              "      <td>The Witching Hour (Lives of the Mayfair Witches)</td>\n",
              "      <td>0.744866</td>\n",
              "    </tr>\n",
              "    <tr>\n",
              "      <th>3</th>\n",
              "      <td>Interview with the Vampire</td>\n",
              "      <td>0.734507</td>\n",
              "    </tr>\n",
              "    <tr>\n",
              "      <th>2</th>\n",
              "      <td>The Tale of the Body Thief (Vampire Chronicles...</td>\n",
              "      <td>0.537634</td>\n",
              "    </tr>\n",
              "    <tr>\n",
              "      <th>1</th>\n",
              "      <td>The Vampire Lestat (Vampire Chronicles, Book II)</td>\n",
              "      <td>0.517841</td>\n",
              "    </tr>\n",
              "    <tr>\n",
              "      <th>0</th>\n",
              "      <td>The Queen of the Damned (Vampire Chronicles (P...</td>\n",
              "      <td>0.000000</td>\n",
              "    </tr>\n",
              "  </tbody>\n",
              "</table>\n",
              "</div>\n",
              "      <button class=\"colab-df-convert\" onclick=\"convertToInteractive('df-691d9bb7-dca5-4441-a0fe-356f4944dfac')\"\n",
              "              title=\"Convert this dataframe to an interactive table.\"\n",
              "              style=\"display:none;\">\n",
              "        \n",
              "  <svg xmlns=\"http://www.w3.org/2000/svg\" height=\"24px\"viewBox=\"0 0 24 24\"\n",
              "       width=\"24px\">\n",
              "    <path d=\"M0 0h24v24H0V0z\" fill=\"none\"/>\n",
              "    <path d=\"M18.56 5.44l.94 2.06.94-2.06 2.06-.94-2.06-.94-.94-2.06-.94 2.06-2.06.94zm-11 1L8.5 8.5l.94-2.06 2.06-.94-2.06-.94L8.5 2.5l-.94 2.06-2.06.94zm10 10l.94 2.06.94-2.06 2.06-.94-2.06-.94-.94-2.06-.94 2.06-2.06.94z\"/><path d=\"M17.41 7.96l-1.37-1.37c-.4-.4-.92-.59-1.43-.59-.52 0-1.04.2-1.43.59L10.3 9.45l-7.72 7.72c-.78.78-.78 2.05 0 2.83L4 21.41c.39.39.9.59 1.41.59.51 0 1.02-.2 1.41-.59l7.78-7.78 2.81-2.81c.8-.78.8-2.07 0-2.86zM5.41 20L4 18.59l7.72-7.72 1.47 1.35L5.41 20z\"/>\n",
              "  </svg>\n",
              "      </button>\n",
              "      \n",
              "  <style>\n",
              "    .colab-df-container {\n",
              "      display:flex;\n",
              "      flex-wrap:wrap;\n",
              "      gap: 12px;\n",
              "    }\n",
              "\n",
              "    .colab-df-convert {\n",
              "      background-color: #E8F0FE;\n",
              "      border: none;\n",
              "      border-radius: 50%;\n",
              "      cursor: pointer;\n",
              "      display: none;\n",
              "      fill: #1967D2;\n",
              "      height: 32px;\n",
              "      padding: 0 0 0 0;\n",
              "      width: 32px;\n",
              "    }\n",
              "\n",
              "    .colab-df-convert:hover {\n",
              "      background-color: #E2EBFA;\n",
              "      box-shadow: 0px 1px 2px rgba(60, 64, 67, 0.3), 0px 1px 3px 1px rgba(60, 64, 67, 0.15);\n",
              "      fill: #174EA6;\n",
              "    }\n",
              "\n",
              "    [theme=dark] .colab-df-convert {\n",
              "      background-color: #3B4455;\n",
              "      fill: #D2E3FC;\n",
              "    }\n",
              "\n",
              "    [theme=dark] .colab-df-convert:hover {\n",
              "      background-color: #434B5C;\n",
              "      box-shadow: 0px 1px 3px 1px rgba(0, 0, 0, 0.15);\n",
              "      filter: drop-shadow(0px 1px 2px rgba(0, 0, 0, 0.3));\n",
              "      fill: #FFFFFF;\n",
              "    }\n",
              "  </style>\n",
              "\n",
              "      <script>\n",
              "        const buttonEl =\n",
              "          document.querySelector('#df-691d9bb7-dca5-4441-a0fe-356f4944dfac button.colab-df-convert');\n",
              "        buttonEl.style.display =\n",
              "          google.colab.kernel.accessAllowed ? 'block' : 'none';\n",
              "\n",
              "        async function convertToInteractive(key) {\n",
              "          const element = document.querySelector('#df-691d9bb7-dca5-4441-a0fe-356f4944dfac');\n",
              "          const dataTable =\n",
              "            await google.colab.kernel.invokeFunction('convertToInteractive',\n",
              "                                                     [key], {});\n",
              "          if (!dataTable) return;\n",
              "\n",
              "          const docLinkHtml = 'Like what you see? Visit the ' +\n",
              "            '<a target=\"_blank\" href=https://colab.research.google.com/notebooks/data_table.ipynb>data table notebook</a>'\n",
              "            + ' to learn more about interactive tables.';\n",
              "          element.innerHTML = '';\n",
              "          dataTable['output_type'] = 'display_data';\n",
              "          await google.colab.output.renderOutput(dataTable, element);\n",
              "          const docLink = document.createElement('div');\n",
              "          docLink.innerHTML = docLinkHtml;\n",
              "          element.appendChild(docLink);\n",
              "        }\n",
              "      </script>\n",
              "    </div>\n",
              "  </div>\n",
              "  "
            ]
          },
          "metadata": {},
          "execution_count": 36
        }
      ]
    },
    {
      "cell_type": "code",
      "execution_count": null,
      "metadata": {
        "id": "f5ZUd-L1SQz7"
      },
      "outputs": [],
      "source": [
        "# function to return recommended books - this will be tested\n",
        "def get_recommends(book = \"\"):\n",
        "  try:\n",
        "    target = df.loc[book]\n",
        "  except KeyError as e:\n",
        "    print('The given book', e, 'does not exist')\n",
        "    return\n",
        "\n",
        "  distance, indice = model.kneighbors([target.values], n_neighbors=6)\n",
        "\n",
        "  recommended_books = pd.DataFrame({\n",
        "      'title' :df.iloc[indice[0]].index.values,\n",
        "      'distance': distance[0]\n",
        "  }) \\\n",
        "  .sort_values(by='distance', ascending=False) \\\n",
        "  .head(5).values\n",
        "\n",
        "  return [book, recommended_books]"
      ]
    },
    {
      "cell_type": "markdown",
      "metadata": {
        "id": "eat9A2TKawHU"
      },
      "source": [
        "Use the cell below to test your function. The `test_book_recommendation()` function will inform you if you passed the challenge or need to keep trying."
      ]
    },
    {
      "cell_type": "code",
      "execution_count": null,
      "metadata": {
        "id": "jd2SLCh8oxMh",
        "outputId": "188d0d68-8cf8-464f-a535-1c24baf873ff",
        "colab": {
          "base_uri": "https://localhost:8080/"
        }
      },
      "outputs": [
        {
          "output_type": "stream",
          "name": "stdout",
          "text": [
            "[\"Where the Heart Is (Oprah's Book Club (Paperback))\", array([[\"I'll Be Seeing You\", 0.8016210794448853],\n",
            "       ['The Weight of Water', 0.7708583474159241],\n",
            "       ['The Surgeon', 0.7699410915374756],\n",
            "       ['I Know This Much Is True', 0.7677075266838074],\n",
            "       ['The Lovely Bones: A Novel', 0.7234864234924316]], dtype=object)]\n",
            "You passed the challenge! 🎉🎉🎉🎉🎉\n"
          ]
        }
      ],
      "source": [
        "books = get_recommends(\"Where the Heart Is (Oprah's Book Club (Paperback))\")\n",
        "print(books)\n",
        "\n",
        "def test_book_recommendation():\n",
        "  test_pass = True\n",
        "  recommends = get_recommends(\"Where the Heart Is (Oprah's Book Club (Paperback))\")\n",
        "  if recommends[0] != \"Where the Heart Is (Oprah's Book Club (Paperback))\":\n",
        "    test_pass = False\n",
        "  recommended_books = [\"I'll Be Seeing You\", 'The Weight of Water', 'The Surgeon', 'I Know This Much Is True']\n",
        "  recommended_books_dist = [0.8, 0.77, 0.77, 0.77]\n",
        "  for i in range(2): \n",
        "    if recommends[1][i][0] not in recommended_books:\n",
        "      test_pass = False\n",
        "    if abs(recommends[1][i][1] - recommended_books_dist[i]) >= 0.05:\n",
        "      test_pass = False\n",
        "  if test_pass:\n",
        "    print(\"You passed the challenge! 🎉🎉🎉🎉🎉\")\n",
        "  else:\n",
        "    print(\"You haven't passed yet. Keep trying!\")\n",
        "\n",
        "test_book_recommendation()"
      ]
    }
  ],
  "metadata": {
    "colab": {
      "collapsed_sections": [],
      "name": "fcc_book_recommendation_knn.ipynb",
      "provenance": []
    },
    "kernelspec": {
      "display_name": "Python 3",
      "language": "python",
      "name": "python3"
    },
    "language_info": {
      "codemirror_mode": {
        "name": "ipython",
        "version": 3
      },
      "file_extension": ".py",
      "mimetype": "text/x-python",
      "name": "python",
      "nbconvert_exporter": "python",
      "pygments_lexer": "ipython3",
      "version": "3.6.5"
    }
  },
  "nbformat": 4,
  "nbformat_minor": 0
}